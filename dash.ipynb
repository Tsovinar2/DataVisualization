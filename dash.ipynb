{
  "nbformat": 4,
  "nbformat_minor": 0,
  "metadata": {
    "colab": {
      "provenance": []
    },
    "kernelspec": {
      "name": "python3",
      "display_name": "Python 3"
    },
    "language_info": {
      "name": "python"
    }
  },
  "cells": [
    {
      "cell_type": "code",
      "execution_count": 18,
      "metadata": {
        "colab": {
          "base_uri": "https://localhost:8080/"
        },
        "collapsed": true,
        "id": "dsge2phgFs2o",
        "outputId": "413a395e-a743-4024-89a4-612446034c84"
      },
      "outputs": [
        {
          "output_type": "stream",
          "name": "stdout",
          "text": [
            "Requirement already satisfied: dash in /usr/local/lib/python3.10/dist-packages (2.17.0)\n",
            "Requirement already satisfied: Flask<3.1,>=1.0.4 in /usr/local/lib/python3.10/dist-packages (from dash) (2.2.5)\n",
            "Requirement already satisfied: Werkzeug<3.1 in /usr/local/lib/python3.10/dist-packages (from dash) (3.0.3)\n",
            "Requirement already satisfied: plotly>=5.0.0 in /usr/local/lib/python3.10/dist-packages (from dash) (5.15.0)\n",
            "Requirement already satisfied: dash-html-components==2.0.0 in /usr/local/lib/python3.10/dist-packages (from dash) (2.0.0)\n",
            "Requirement already satisfied: dash-core-components==2.0.0 in /usr/local/lib/python3.10/dist-packages (from dash) (2.0.0)\n",
            "Requirement already satisfied: dash-table==5.0.0 in /usr/local/lib/python3.10/dist-packages (from dash) (5.0.0)\n",
            "Requirement already satisfied: importlib-metadata in /usr/local/lib/python3.10/dist-packages (from dash) (7.1.0)\n",
            "Requirement already satisfied: typing-extensions>=4.1.1 in /usr/local/lib/python3.10/dist-packages (from dash) (4.11.0)\n",
            "Requirement already satisfied: requests in /usr/local/lib/python3.10/dist-packages (from dash) (2.31.0)\n",
            "Requirement already satisfied: retrying in /usr/local/lib/python3.10/dist-packages (from dash) (1.3.4)\n",
            "Requirement already satisfied: nest-asyncio in /usr/local/lib/python3.10/dist-packages (from dash) (1.6.0)\n",
            "Requirement already satisfied: setuptools in /usr/local/lib/python3.10/dist-packages (from dash) (67.7.2)\n",
            "Requirement already satisfied: Jinja2>=3.0 in /usr/local/lib/python3.10/dist-packages (from Flask<3.1,>=1.0.4->dash) (3.1.4)\n",
            "Requirement already satisfied: itsdangerous>=2.0 in /usr/local/lib/python3.10/dist-packages (from Flask<3.1,>=1.0.4->dash) (2.2.0)\n",
            "Requirement already satisfied: click>=8.0 in /usr/local/lib/python3.10/dist-packages (from Flask<3.1,>=1.0.4->dash) (8.1.7)\n",
            "Requirement already satisfied: tenacity>=6.2.0 in /usr/local/lib/python3.10/dist-packages (from plotly>=5.0.0->dash) (8.3.0)\n",
            "Requirement already satisfied: packaging in /usr/local/lib/python3.10/dist-packages (from plotly>=5.0.0->dash) (24.0)\n",
            "Requirement already satisfied: MarkupSafe>=2.1.1 in /usr/local/lib/python3.10/dist-packages (from Werkzeug<3.1->dash) (2.1.5)\n",
            "Requirement already satisfied: zipp>=0.5 in /usr/local/lib/python3.10/dist-packages (from importlib-metadata->dash) (3.18.1)\n",
            "Requirement already satisfied: charset-normalizer<4,>=2 in /usr/local/lib/python3.10/dist-packages (from requests->dash) (3.3.2)\n",
            "Requirement already satisfied: idna<4,>=2.5 in /usr/local/lib/python3.10/dist-packages (from requests->dash) (3.7)\n",
            "Requirement already satisfied: urllib3<3,>=1.21.1 in /usr/local/lib/python3.10/dist-packages (from requests->dash) (2.0.7)\n",
            "Requirement already satisfied: certifi>=2017.4.17 in /usr/local/lib/python3.10/dist-packages (from requests->dash) (2024.2.2)\n",
            "Requirement already satisfied: six>=1.7.0 in /usr/local/lib/python3.10/dist-packages (from retrying->dash) (1.16.0)\n"
          ]
        }
      ],
      "source": [
        "pip install dash"
      ]
    },
    {
      "cell_type": "code",
      "execution_count": 19,
      "metadata": {
        "colab": {
          "base_uri": "https://localhost:8080/"
        },
        "collapsed": true,
        "id": "I0CxJ7AeGlSa",
        "outputId": "68d99fea-c50a-4007-88d1-961ec9417b74"
      },
      "outputs": [
        {
          "output_type": "stream",
          "name": "stdout",
          "text": [
            "Requirement already satisfied: dash_bootstrap_components in /usr/local/lib/python3.10/dist-packages (1.6.0)\n",
            "Requirement already satisfied: dash>=2.0.0 in /usr/local/lib/python3.10/dist-packages (from dash_bootstrap_components) (2.17.0)\n",
            "Requirement already satisfied: Flask<3.1,>=1.0.4 in /usr/local/lib/python3.10/dist-packages (from dash>=2.0.0->dash_bootstrap_components) (2.2.5)\n",
            "Requirement already satisfied: Werkzeug<3.1 in /usr/local/lib/python3.10/dist-packages (from dash>=2.0.0->dash_bootstrap_components) (3.0.3)\n",
            "Requirement already satisfied: plotly>=5.0.0 in /usr/local/lib/python3.10/dist-packages (from dash>=2.0.0->dash_bootstrap_components) (5.15.0)\n",
            "Requirement already satisfied: dash-html-components==2.0.0 in /usr/local/lib/python3.10/dist-packages (from dash>=2.0.0->dash_bootstrap_components) (2.0.0)\n",
            "Requirement already satisfied: dash-core-components==2.0.0 in /usr/local/lib/python3.10/dist-packages (from dash>=2.0.0->dash_bootstrap_components) (2.0.0)\n",
            "Requirement already satisfied: dash-table==5.0.0 in /usr/local/lib/python3.10/dist-packages (from dash>=2.0.0->dash_bootstrap_components) (5.0.0)\n",
            "Requirement already satisfied: importlib-metadata in /usr/local/lib/python3.10/dist-packages (from dash>=2.0.0->dash_bootstrap_components) (7.1.0)\n",
            "Requirement already satisfied: typing-extensions>=4.1.1 in /usr/local/lib/python3.10/dist-packages (from dash>=2.0.0->dash_bootstrap_components) (4.11.0)\n",
            "Requirement already satisfied: requests in /usr/local/lib/python3.10/dist-packages (from dash>=2.0.0->dash_bootstrap_components) (2.31.0)\n",
            "Requirement already satisfied: retrying in /usr/local/lib/python3.10/dist-packages (from dash>=2.0.0->dash_bootstrap_components) (1.3.4)\n",
            "Requirement already satisfied: nest-asyncio in /usr/local/lib/python3.10/dist-packages (from dash>=2.0.0->dash_bootstrap_components) (1.6.0)\n",
            "Requirement already satisfied: setuptools in /usr/local/lib/python3.10/dist-packages (from dash>=2.0.0->dash_bootstrap_components) (67.7.2)\n",
            "Requirement already satisfied: Jinja2>=3.0 in /usr/local/lib/python3.10/dist-packages (from Flask<3.1,>=1.0.4->dash>=2.0.0->dash_bootstrap_components) (3.1.4)\n",
            "Requirement already satisfied: itsdangerous>=2.0 in /usr/local/lib/python3.10/dist-packages (from Flask<3.1,>=1.0.4->dash>=2.0.0->dash_bootstrap_components) (2.2.0)\n",
            "Requirement already satisfied: click>=8.0 in /usr/local/lib/python3.10/dist-packages (from Flask<3.1,>=1.0.4->dash>=2.0.0->dash_bootstrap_components) (8.1.7)\n",
            "Requirement already satisfied: tenacity>=6.2.0 in /usr/local/lib/python3.10/dist-packages (from plotly>=5.0.0->dash>=2.0.0->dash_bootstrap_components) (8.3.0)\n",
            "Requirement already satisfied: packaging in /usr/local/lib/python3.10/dist-packages (from plotly>=5.0.0->dash>=2.0.0->dash_bootstrap_components) (24.0)\n",
            "Requirement already satisfied: MarkupSafe>=2.1.1 in /usr/local/lib/python3.10/dist-packages (from Werkzeug<3.1->dash>=2.0.0->dash_bootstrap_components) (2.1.5)\n",
            "Requirement already satisfied: zipp>=0.5 in /usr/local/lib/python3.10/dist-packages (from importlib-metadata->dash>=2.0.0->dash_bootstrap_components) (3.18.1)\n",
            "Requirement already satisfied: charset-normalizer<4,>=2 in /usr/local/lib/python3.10/dist-packages (from requests->dash>=2.0.0->dash_bootstrap_components) (3.3.2)\n",
            "Requirement already satisfied: idna<4,>=2.5 in /usr/local/lib/python3.10/dist-packages (from requests->dash>=2.0.0->dash_bootstrap_components) (3.7)\n",
            "Requirement already satisfied: urllib3<3,>=1.21.1 in /usr/local/lib/python3.10/dist-packages (from requests->dash>=2.0.0->dash_bootstrap_components) (2.0.7)\n",
            "Requirement already satisfied: certifi>=2017.4.17 in /usr/local/lib/python3.10/dist-packages (from requests->dash>=2.0.0->dash_bootstrap_components) (2024.2.2)\n",
            "Requirement already satisfied: six>=1.7.0 in /usr/local/lib/python3.10/dist-packages (from retrying->dash>=2.0.0->dash_bootstrap_components) (1.16.0)\n"
          ]
        }
      ],
      "source": [
        "pip install dash_bootstrap_components"
      ]
    },
    {
      "cell_type": "code",
      "execution_count": 20,
      "metadata": {
        "colab": {
          "base_uri": "https://localhost:8080/"
        },
        "collapsed": true,
        "id": "lNqsOHxuGpkO",
        "outputId": "89d288d2-1df4-48ac-a07c-8e329de21938"
      },
      "outputs": [
        {
          "output_type": "stream",
          "name": "stdout",
          "text": [
            "Requirement already satisfied: pyngrok in /usr/local/lib/python3.10/dist-packages (7.1.6)\n",
            "Requirement already satisfied: PyYAML>=5.1 in /usr/local/lib/python3.10/dist-packages (from pyngrok) (6.0.1)\n"
          ]
        }
      ],
      "source": [
        "pip install pyngrok"
      ]
    },
    {
      "cell_type": "code",
      "execution_count": 21,
      "metadata": {
        "id": "5GCR4848G4Az"
      },
      "outputs": [],
      "source": [
        "import numpy as np\n",
        "import pandas as pd\n",
        "import plotly.graph_objects as go\n",
        "import plotly.express as px\n",
        "from plotly.subplots import make_subplots\n",
        "import plotly.figure_factory as ff"
      ]
    },
    {
      "cell_type": "code",
      "execution_count": 22,
      "metadata": {
        "id": "k1U4QHsAGy8E"
      },
      "outputs": [],
      "source": [
        "import dash\n",
        "from dash import dcc, html, Dash, Output, Input\n",
        "import dash_bootstrap_components as dbc\n",
        "from pyngrok import ngrok"
      ]
    },
    {
      "cell_type": "code",
      "execution_count": 23,
      "metadata": {
        "id": "M3-hOzwdLPL6",
        "colab": {
          "base_uri": "https://localhost:8080/"
        },
        "outputId": "0531e0a9-6c28-48ac-da40-d00a4b165b1a"
      },
      "outputs": [
        {
          "output_type": "stream",
          "name": "stdout",
          "text": [
            "1150\n"
          ]
        }
      ],
      "source": [
        "!pgrep ngrok"
      ]
    },
    {
      "cell_type": "code",
      "execution_count": 24,
      "metadata": {
        "id": "fFWoVTZpLX9t"
      },
      "outputs": [],
      "source": [
        "#!kill 14676"
      ]
    },
    {
      "cell_type": "code",
      "execution_count": 25,
      "metadata": {
        "colab": {
          "base_uri": "https://localhost:8080/"
        },
        "id": "1J76uBnJHHWs",
        "outputId": "4ec0827b-446a-44fc-ecc5-2f370ad4bed9"
      },
      "outputs": [
        {
          "output_type": "stream",
          "name": "stdout",
          "text": [
            "url: NgrokTunnel: \"https://4a96-34-125-134-253.ngrok-free.app\" -> \"http://localhost:8050\"\n"
          ]
        }
      ],
      "source": [
        "ngrok.set_auth_token('2gIlIcVHuAP0SLHUeijX1RLX5it_59uQsFzeSW93RkPaM2BQs')\n",
        "public_url=ngrok.connect(addr='8050')\n",
        "print('url:', public_url)"
      ]
    },
    {
      "cell_type": "markdown",
      "source": [
        "# Page 1 layout"
      ],
      "metadata": {
        "id": "yQ_1V-AEsCi8"
      }
    },
    {
      "cell_type": "code",
      "execution_count": 26,
      "metadata": {
        "id": "s03uMFQKOZDa"
      },
      "outputs": [],
      "source": [
        "companies = {'google': 'GOOGL.csv', 'tesla': 'TSLA.csv', 'ibm': 'IBM.csv'}\n",
        "dataframes = {company: pd.read_csv(filename) for company, filename in companies.items()}\n",
        "\n",
        "app = dash.Dash(__name__, external_stylesheets=[dbc.themes.BOOTSTRAP], suppress_callback_exceptions=True)\n",
        "\n",
        "page1_layout=dbc.Container(fluid=True, children=[\n",
        "    dbc.Row([\n",
        "        dbc.Col([\n",
        "            dcc.Dropdown(id='multi_stock_selector1',options=[{'label': company.capitalize(), 'value': company} for company in companies],\n",
        "                              value=['google','tesla'], multi=True),\n",
        "            dcc.Graph(id='multi_stock_selector_graph1', figure={})], width=6),\n",
        "\n",
        "        dbc.Col([\n",
        "            dcc.Dropdown(id='multi_stock_selector2',options=[{'label': company.capitalize(), 'value': company} for company in companies],\n",
        "                              value=['google','tesla'], multi=True),\n",
        "            dcc.Graph(id='multi_stock_selector_graph2', figure={})], width=6)\n",
        "\n",
        "    ]),\n",
        "    dbc.Row([\n",
        "        dbc.Col([\n",
        "            dcc.Dropdown(id='multi_stock_selector3',options=[{'label': company.capitalize(), 'value': company} for company in companies],\n",
        "                              value=['google','tesla'], multi=True),\n",
        "            dcc.Graph(id='multi_stock_selector_graph3', figure={})], width=12)])\n",
        "\n",
        "  ])\n",
        "\n",
        "\n",
        "@app.callback(\n",
        "    Output('multi_stock_selector_graph1', 'figure'),\n",
        "    Input('multi_stock_selector1', 'value')\n",
        ")\n",
        "def graph1(companies):\n",
        "    fig = go.Figure()\n",
        "    for company in companies:\n",
        "        selected_df = dataframes[company]\n",
        "        fig.add_trace(go.Scatter(x=selected_df['Date'], y=selected_df['Close'], mode='lines', name=company.capitalize()))\n",
        "\n",
        "    fig.update_layout(\n",
        "        title='Close Price Comparison',\n",
        "        xaxis_title='Date',\n",
        "        yaxis_title='Close Price',\n",
        "        legend_title='Company')\n",
        "\n",
        "    return fig\n",
        "\n",
        "\n",
        "\n",
        "@app.callback(\n",
        "    Output('multi_stock_selector_graph2', 'figure'),\n",
        "    Input('multi_stock_selector2', 'value')\n",
        ")\n",
        "def graph2(companies):\n",
        "    fig = go.Figure()\n",
        "\n",
        "    for company in companies:\n",
        "        selected_df = dataframes[company]\n",
        "        fig.add_trace(go.Scatter(x=selected_df['Date'], y=selected_df['Volume'], mode='lines', name=company.capitalize()))\n",
        "\n",
        "    fig.update_layout(\n",
        "        title='Stock Volume Comparison',\n",
        "        xaxis_title='Date',\n",
        "        yaxis_title='Volume',\n",
        "        legend_title='Company'\n",
        "    )\n",
        "\n",
        "    return fig\n",
        "\n",
        "\n",
        "\n",
        "@app.callback(\n",
        "    Output('multi_stock_selector_graph3', 'figure'),\n",
        "    Input('multi_stock_selector3', 'value')\n",
        ")\n",
        "def graph3(companies):\n",
        "    fig = go.Figure()\n",
        "    for company in companies:\n",
        "        selected_df = dataframes[company]\n",
        "        fig.add_trace(go.Scatter(x=selected_df['Date'], y=selected_df['Close']*selected_df['Volume'], mode='lines', name=company.capitalize()))\n",
        "\n",
        "    fig.update_layout(\n",
        "        title='Stock Total Traded',\n",
        "        xaxis_title='Date',\n",
        "        yaxis_title='Total Traded',\n",
        "        legend_title='Company'\n",
        "    )\n",
        "\n",
        "    return fig\n"
      ]
    },
    {
      "cell_type": "markdown",
      "source": [
        "# Page 2 layout"
      ],
      "metadata": {
        "id": "nhpCjxM_f6ZN"
      }
    },
    {
      "cell_type": "code",
      "execution_count": 27,
      "metadata": {
        "id": "O00A_w3JOajC"
      },
      "outputs": [],
      "source": [
        "page2_layout=dbc.Container(fluid=True, children=[\n",
        "\n",
        "    dbc.Row([\n",
        "        dbc.Col([\n",
        "            dcc.Dropdown(id='stock_selector',options=[{'label': company.capitalize(), 'value': company} for company in companies],\n",
        "                              value='google', multi=False),\n",
        "            dcc.Graph(id='stock_selector_graph', figure={})], width=12)\n",
        "    ]),\n",
        "  dbc.Row([\n",
        "        dbc.Col([\n",
        "            dcc.Dropdown(\n",
        "                id='stock_selection',\n",
        "                options=[{'label': company.capitalize(), 'value': company} for company in dataframes.keys()],\n",
        "                value=list(dataframes.keys())[0:2],  multi=True),\n",
        "            dcc.Graph(id='correlation_graph', figure={})\n",
        "        ], width=12)])\n",
        "])\n",
        "\n",
        "\n",
        "@app.callback(\n",
        "    Output('stock_selector_graph', 'figure'),\n",
        "    Input('stock_selector', 'value')\n",
        ")\n",
        "def graph4(company):\n",
        "  selected_df = dataframes[company]\n",
        "  fig=go.Figure(data=[go.Candlestick(x=selected_df[\"Date\"],\n",
        "                                   open=selected_df[\"Open\"],\n",
        "                                   close=selected_df[\"Close\"],\n",
        "                                   high=selected_df[\"High\"],\n",
        "                                   low=selected_df[\"Low\"])])\n",
        "  fig.update_layout(xaxis_rangeslider_visible=False)\n",
        "  return fig\n",
        "\n",
        "@app.callback(\n",
        "    Output('correlation_graph', 'figure'),\n",
        "    Input('stock_selection', 'value')\n",
        ")\n",
        "def correlations(selected_stocks):\n",
        "    if len(selected_stocks) == 1:\n",
        "        stock = selected_stocks[0]\n",
        "        if stock in dataframes:\n",
        "            # If only one stock is selected, display a line plot of its close prices\n",
        "            fig = go.Figure(data=go.Scatter(x=dataframes[stock].index,\n",
        "                                            y=dataframes[stock]['Close'],\n",
        "                                            mode='lines',\n",
        "                                            marker=dict(color='blue'),\n",
        "                                            ))\n",
        "            fig.update_layout(title=f'Correlation: 1.00 (Single Stock: {stock})')\n",
        "            return fig\n",
        "\n",
        "    elif len(selected_stocks) == 2:\n",
        "        filtered_data = {stock: dataframes[stock]['Close'] for stock in selected_stocks if stock in dataframes}\n",
        "        combined_close_prices = pd.concat(filtered_data, axis=1)\n",
        "        correlation = combined_close_prices.corr().iloc[0, 1]\n",
        "\n",
        "        fig = go.Figure(data=go.Scatter(x=combined_close_prices[selected_stocks[0]],\n",
        "                                        y=combined_close_prices[selected_stocks[1]],\n",
        "                                        mode='markers',\n",
        "                                        marker=dict(color='blue'),))\n",
        "\n",
        "        fig.update_layout(title=f'Correlation between {selected_stocks[0]} and {selected_stocks[1]}: {correlation:.2f}')\n",
        "\n",
        "        return fig\n"
      ]
    },
    {
      "cell_type": "markdown",
      "source": [
        "# Page 3 layout"
      ],
      "metadata": {
        "id": "esoCKIuagrJm"
      }
    },
    {
      "cell_type": "code",
      "source": [
        "page3_layout = dbc.Container(fluid=True, children=[\n",
        "    dbc.Row([\n",
        "        dbc.Col([\n",
        "            dcc.Dropdown(\n",
        "                id='stock_selector_returns',\n",
        "                options=[{'label': company.capitalize(), 'value': company} for company in companies],\n",
        "                value=['google', 'ibm'],\n",
        "                multi=True),\n",
        "            dcc.Graph(id='returns_graph', figure={})], width=6),\n",
        "        dbc.Col([\n",
        "            dcc.Dropdown(\n",
        "                id='stock_selector_volatility',\n",
        "                options=[{'label': company.capitalize(), 'value': company} for company in companies],\n",
        "                value=['google', 'ibm'],\n",
        "                multi=True),\n",
        "            dcc.Graph(id='volatility_graph', figure={})], width=6)]),\n",
        "    dbc.Row([\n",
        "        dbc.Col([\n",
        "            dcc.Dropdown(\n",
        "                id='stock_selector_density',\n",
        "                options=[{'label': company.capitalize(), 'value': company} for company in companies],\n",
        "                value=['google', 'ibm'],\n",
        "                multi=True),\n",
        "            dcc.Graph(id='density_graph', figure={})], width=12)])\n",
        "])\n",
        "\n",
        "@app.callback(\n",
        "    [Output('returns_graph', 'figure'),\n",
        "     Output('volatility_graph', 'figure'),\n",
        "     Output('density_graph', 'figure')],\n",
        "    [Input('stock_selector_returns', 'value'),\n",
        "     Input('stock_selector_volatility', 'value'),\n",
        "     Input('stock_selector_density', 'value')]\n",
        ")\n",
        "def update_returns_analysis(selected_stocks_returns, selected_stocks_volatility, selected_stocks_density):\n",
        "    return (create_returns_plot(selected_stocks_returns),\n",
        "        create_volatility_plot(selected_stocks_volatility),\n",
        "        create_density_plot(selected_stocks_density))\n",
        "\n",
        "def create_returns_plot(companies):\n",
        "    fig = go.Figure()\n",
        "    for company in companies:\n",
        "        df = dataframes[company]\n",
        "        df['Return'] = df['Close'].pct_change() * 100  # Calculate daily percentage change\n",
        "        fig.add_trace(go.Scatter(x=df['Date'], y=df['Return'], mode='lines', name=company.capitalize() + ' Return'))\n",
        "    fig.update_layout(title='Daily Percentage Change (Returns)')\n",
        "    return fig\n",
        "\n",
        "def create_volatility_plot(companies):\n",
        "    fig = go.Figure()\n",
        "    for company in companies:\n",
        "        df = dataframes[company]\n",
        "        df['Return'] = df['Close'].pct_change() * 100\n",
        "        fig.add_trace(go.Histogram(x=df['Return'], name=company.capitalize() + ' Volatility'))\n",
        "    fig.update_layout(title='Volatility (Histogram of Returns)')\n",
        "    return fig\n",
        "\n",
        "def create_density_plot(companies):\n",
        "    fig = go.Figure()\n",
        "    colors = ['blue', 'green', 'red']\n",
        "\n",
        "    for i, company in enumerate(companies):\n",
        "        df = dataframes[company]\n",
        "        df['Return'] = df['Close'].pct_change() * 100\n",
        "        df['Return'] = df['Return'].replace([np.inf, -np.inf], np.nan)\n",
        "        df['Return'].dropna(inplace=True)\n",
        "        df['Return'] = df['Return'].replace([np.nan], 0)\n",
        "        hist_fig = ff.create_distplot(\n",
        "            [df['Return']],\n",
        "            histnorm='probability',\n",
        "            group_labels=[company.capitalize()],\n",
        "            show_rug=False,\n",
        "            show_hist=False,\n",
        "            colors=[colors[i]])\n",
        "\n",
        "        for trace in hist_fig['data']:\n",
        "            fig.add_trace(trace)\n",
        "\n",
        "    fig.update_layout(title='Volatility (KDE of Returns)')\n",
        "    return fig"
      ],
      "metadata": {
        "id": "-Gq37fQGlhjT"
      },
      "execution_count": 28,
      "outputs": []
    },
    {
      "cell_type": "markdown",
      "source": [
        "# Page 4 layout"
      ],
      "metadata": {
        "id": "nVSGGPL-hjVs"
      }
    },
    {
      "cell_type": "code",
      "source": [
        "page4_layout = dbc.Container(fluid=True, children=[\n",
        "    dbc.Row([\n",
        "        dbc.Col([\n",
        "            dcc.Dropdown(\n",
        "                id='company_selector_5',\n",
        "                options=[{'label': company.capitalize(), 'value': company} for company in companies],\n",
        "                value='google',\n",
        "                multi=False),\n",
        "            dcc.Graph(id='scatter_plot', figure={})], width=12),]),\n",
        "    dbc.Row([\n",
        "        dbc.Col([\n",
        "            html.Div([\n",
        "                html.H5(\"Explanation:\"),\n",
        "                html.P(\"This scatter plot visualizes the relationship between trading volume and closing price of the selected stock. The size of each point represents the absolute value of daily returns, while the color indicates the direction and magnitude of price changes (negative values in red, positive values in green).\"),])], width=12)])\n",
        "])\n",
        "\n",
        "\n",
        "@app.callback(\n",
        "    Output('scatter_plot', 'figure'),\n",
        "    [Input('company_selector_5', 'value')]\n",
        ")\n",
        "def update_scatter_plot(selected_company):\n",
        "    df = dataframes[selected_company]\n",
        "    df['Returns'] = df['Close'].diff()\n",
        "    df[\"Abs_Returns\"] = df['Returns'].abs()\n",
        "    df = df.dropna()\n",
        "\n",
        "    fig = px.scatter(df,\n",
        "                     x=\"Volume\",\n",
        "                     y=\"Close\",\n",
        "                     size=\"Abs_Returns\",\n",
        "                     color=\"Returns\",\n",
        "                     color_continuous_scale=['red', 'lightgray', 'green'],\n",
        "                     hover_data=[\"Date\", \"Returns\", \"Abs_Returns\"],\n",
        "                     title=f'Scatter Plot of {selected_company.capitalize()} Volume, Close, Returns and Price Change')\n",
        "    fig.update_layout(xaxis_title=\"Volume\", yaxis_title=\"Close\")\n",
        "\n",
        "    return fig"
      ],
      "metadata": {
        "id": "GAjtg9sUg1zr"
      },
      "execution_count": 29,
      "outputs": []
    },
    {
      "cell_type": "markdown",
      "source": [
        "\n",
        "\n",
        "---\n",
        "\n"
      ],
      "metadata": {
        "id": "yhXed-N2h4qW"
      }
    },
    {
      "cell_type": "code",
      "execution_count": 30,
      "metadata": {
        "id": "wq40NAUgOmA_"
      },
      "outputs": [],
      "source": [
        "app.layout = dbc.Container(fluid=True, children=[\n",
        "    dbc.Row([\n",
        "        dbc.Col([html.H1('Multipage dashboard. Stock Market Analysis: Tesla, Google and IBM', className=\"text-center\")], width=12)\n",
        "    ]),\n",
        "    dbc.Row([\n",
        "            dbc.Col([dbc.Nav(\n",
        "                        [dbc.NavLink(page['name'], href=page['path'], active='exact') for page in [\n",
        "                            {'name': 'page1', 'path': '/'},\n",
        "                            {'name': 'page2', 'path': '/plots'},\n",
        "                            {'name': 'page3', 'path': '/returns'},\n",
        "                            {'name': 'page4', 'path': '/scatter'}]], vertical=True, pills=True)],width=2),\n",
        "            dbc.Col([dcc.Location(id='url', refresh=True), html.Div(id='page-content')], width=10)])\n",
        "])\n",
        "\n",
        "\n",
        "@app.callback(Output('page-content', 'children'),\n",
        "              Input('url', 'pathname'))\n",
        "def display_page(pathname):\n",
        "    if pathname == '/':\n",
        "        return page1_layout\n",
        "    elif pathname == '/plots':\n",
        "        return page2_layout\n",
        "    elif pathname == '/returns':\n",
        "        return page3_layout\n",
        "    elif pathname == '/scatter':\n",
        "        return page4_layout\n",
        "    else:\n",
        "        return '404 Page Not Found'\n",
        "\n"
      ]
    },
    {
      "cell_type": "code",
      "source": [
        "if __name__ == '__main__':\n",
        "    app.run_server(port=8050, debug=True)"
      ],
      "metadata": {
        "colab": {
          "base_uri": "https://localhost:8080/",
          "height": 672
        },
        "id": "QOYkE5LNybI9",
        "outputId": "ba4f682e-fd71-4105-b2b3-a4c20bb3398a"
      },
      "execution_count": 31,
      "outputs": [
        {
          "output_type": "display_data",
          "data": {
            "text/plain": [
              "<IPython.core.display.Javascript object>"
            ],
            "application/javascript": [
              "(async (port, path, width, height, cache, element) => {\n",
              "    if (!google.colab.kernel.accessAllowed && !cache) {\n",
              "      return;\n",
              "    }\n",
              "    element.appendChild(document.createTextNode(''));\n",
              "    const url = await google.colab.kernel.proxyPort(port, {cache});\n",
              "    const iframe = document.createElement('iframe');\n",
              "    iframe.src = new URL(path, url).toString();\n",
              "    iframe.height = height;\n",
              "    iframe.width = width;\n",
              "    iframe.style.border = 0;\n",
              "    iframe.allow = [\n",
              "        'accelerometer',\n",
              "        'autoplay',\n",
              "        'camera',\n",
              "        'clipboard-read',\n",
              "        'clipboard-write',\n",
              "        'gyroscope',\n",
              "        'magnetometer',\n",
              "        'microphone',\n",
              "        'serial',\n",
              "        'usb',\n",
              "        'xr-spatial-tracking',\n",
              "    ].join('; ');\n",
              "    element.appendChild(iframe);\n",
              "  })(8050, \"/\", \"100%\", 650, false, window.element)"
            ]
          },
          "metadata": {}
        }
      ]
    }
  ]
}