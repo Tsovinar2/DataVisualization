{
  "nbformat": 4,
  "nbformat_minor": 0,
  "metadata": {
    "colab": {
      "provenance": []
    },
    "kernelspec": {
      "name": "python3",
      "display_name": "Python 3"
    },
    "language_info": {
      "name": "python"
    }
  },
  "cells": [
    {
      "cell_type": "code",
      "execution_count": 275,
      "metadata": {
        "colab": {
          "base_uri": "https://localhost:8080/"
        },
        "collapsed": true,
        "id": "dsge2phgFs2o",
        "outputId": "785e059e-67f2-43d7-a413-b13f1eb36bd1"
      },
      "outputs": [
        {
          "output_type": "stream",
          "name": "stdout",
          "text": [
            "Requirement already satisfied: dash in /usr/local/lib/python3.10/dist-packages (2.17.0)\n",
            "Requirement already satisfied: Flask<3.1,>=1.0.4 in /usr/local/lib/python3.10/dist-packages (from dash) (2.2.5)\n",
            "Requirement already satisfied: Werkzeug<3.1 in /usr/local/lib/python3.10/dist-packages (from dash) (3.0.3)\n",
            "Requirement already satisfied: plotly>=5.0.0 in /usr/local/lib/python3.10/dist-packages (from dash) (5.15.0)\n",
            "Requirement already satisfied: dash-html-components==2.0.0 in /usr/local/lib/python3.10/dist-packages (from dash) (2.0.0)\n",
            "Requirement already satisfied: dash-core-components==2.0.0 in /usr/local/lib/python3.10/dist-packages (from dash) (2.0.0)\n",
            "Requirement already satisfied: dash-table==5.0.0 in /usr/local/lib/python3.10/dist-packages (from dash) (5.0.0)\n",
            "Requirement already satisfied: importlib-metadata in /usr/local/lib/python3.10/dist-packages (from dash) (7.1.0)\n",
            "Requirement already satisfied: typing-extensions>=4.1.1 in /usr/local/lib/python3.10/dist-packages (from dash) (4.11.0)\n",
            "Requirement already satisfied: requests in /usr/local/lib/python3.10/dist-packages (from dash) (2.31.0)\n",
            "Requirement already satisfied: retrying in /usr/local/lib/python3.10/dist-packages (from dash) (1.3.4)\n",
            "Requirement already satisfied: nest-asyncio in /usr/local/lib/python3.10/dist-packages (from dash) (1.6.0)\n",
            "Requirement already satisfied: setuptools in /usr/local/lib/python3.10/dist-packages (from dash) (67.7.2)\n",
            "Requirement already satisfied: Jinja2>=3.0 in /usr/local/lib/python3.10/dist-packages (from Flask<3.1,>=1.0.4->dash) (3.1.4)\n",
            "Requirement already satisfied: itsdangerous>=2.0 in /usr/local/lib/python3.10/dist-packages (from Flask<3.1,>=1.0.4->dash) (2.2.0)\n",
            "Requirement already satisfied: click>=8.0 in /usr/local/lib/python3.10/dist-packages (from Flask<3.1,>=1.0.4->dash) (8.1.7)\n",
            "Requirement already satisfied: tenacity>=6.2.0 in /usr/local/lib/python3.10/dist-packages (from plotly>=5.0.0->dash) (8.3.0)\n",
            "Requirement already satisfied: packaging in /usr/local/lib/python3.10/dist-packages (from plotly>=5.0.0->dash) (24.0)\n",
            "Requirement already satisfied: MarkupSafe>=2.1.1 in /usr/local/lib/python3.10/dist-packages (from Werkzeug<3.1->dash) (2.1.5)\n",
            "Requirement already satisfied: zipp>=0.5 in /usr/local/lib/python3.10/dist-packages (from importlib-metadata->dash) (3.18.1)\n",
            "Requirement already satisfied: charset-normalizer<4,>=2 in /usr/local/lib/python3.10/dist-packages (from requests->dash) (3.3.2)\n",
            "Requirement already satisfied: idna<4,>=2.5 in /usr/local/lib/python3.10/dist-packages (from requests->dash) (3.7)\n",
            "Requirement already satisfied: urllib3<3,>=1.21.1 in /usr/local/lib/python3.10/dist-packages (from requests->dash) (2.0.7)\n",
            "Requirement already satisfied: certifi>=2017.4.17 in /usr/local/lib/python3.10/dist-packages (from requests->dash) (2024.2.2)\n",
            "Requirement already satisfied: six>=1.7.0 in /usr/local/lib/python3.10/dist-packages (from retrying->dash) (1.16.0)\n"
          ]
        }
      ],
      "source": [
        "pip install dash"
      ]
    },
    {
      "cell_type": "code",
      "execution_count": 276,
      "metadata": {
        "colab": {
          "base_uri": "https://localhost:8080/"
        },
        "collapsed": true,
        "id": "I0CxJ7AeGlSa",
        "outputId": "57092eb7-2b17-49b1-d4f9-3ebe981a5296"
      },
      "outputs": [
        {
          "output_type": "stream",
          "name": "stdout",
          "text": [
            "Requirement already satisfied: dash_bootstrap_components in /usr/local/lib/python3.10/dist-packages (1.6.0)\n",
            "Requirement already satisfied: dash>=2.0.0 in /usr/local/lib/python3.10/dist-packages (from dash_bootstrap_components) (2.17.0)\n",
            "Requirement already satisfied: Flask<3.1,>=1.0.4 in /usr/local/lib/python3.10/dist-packages (from dash>=2.0.0->dash_bootstrap_components) (2.2.5)\n",
            "Requirement already satisfied: Werkzeug<3.1 in /usr/local/lib/python3.10/dist-packages (from dash>=2.0.0->dash_bootstrap_components) (3.0.3)\n",
            "Requirement already satisfied: plotly>=5.0.0 in /usr/local/lib/python3.10/dist-packages (from dash>=2.0.0->dash_bootstrap_components) (5.15.0)\n",
            "Requirement already satisfied: dash-html-components==2.0.0 in /usr/local/lib/python3.10/dist-packages (from dash>=2.0.0->dash_bootstrap_components) (2.0.0)\n",
            "Requirement already satisfied: dash-core-components==2.0.0 in /usr/local/lib/python3.10/dist-packages (from dash>=2.0.0->dash_bootstrap_components) (2.0.0)\n",
            "Requirement already satisfied: dash-table==5.0.0 in /usr/local/lib/python3.10/dist-packages (from dash>=2.0.0->dash_bootstrap_components) (5.0.0)\n",
            "Requirement already satisfied: importlib-metadata in /usr/local/lib/python3.10/dist-packages (from dash>=2.0.0->dash_bootstrap_components) (7.1.0)\n",
            "Requirement already satisfied: typing-extensions>=4.1.1 in /usr/local/lib/python3.10/dist-packages (from dash>=2.0.0->dash_bootstrap_components) (4.11.0)\n",
            "Requirement already satisfied: requests in /usr/local/lib/python3.10/dist-packages (from dash>=2.0.0->dash_bootstrap_components) (2.31.0)\n",
            "Requirement already satisfied: retrying in /usr/local/lib/python3.10/dist-packages (from dash>=2.0.0->dash_bootstrap_components) (1.3.4)\n",
            "Requirement already satisfied: nest-asyncio in /usr/local/lib/python3.10/dist-packages (from dash>=2.0.0->dash_bootstrap_components) (1.6.0)\n",
            "Requirement already satisfied: setuptools in /usr/local/lib/python3.10/dist-packages (from dash>=2.0.0->dash_bootstrap_components) (67.7.2)\n",
            "Requirement already satisfied: Jinja2>=3.0 in /usr/local/lib/python3.10/dist-packages (from Flask<3.1,>=1.0.4->dash>=2.0.0->dash_bootstrap_components) (3.1.4)\n",
            "Requirement already satisfied: itsdangerous>=2.0 in /usr/local/lib/python3.10/dist-packages (from Flask<3.1,>=1.0.4->dash>=2.0.0->dash_bootstrap_components) (2.2.0)\n",
            "Requirement already satisfied: click>=8.0 in /usr/local/lib/python3.10/dist-packages (from Flask<3.1,>=1.0.4->dash>=2.0.0->dash_bootstrap_components) (8.1.7)\n",
            "Requirement already satisfied: tenacity>=6.2.0 in /usr/local/lib/python3.10/dist-packages (from plotly>=5.0.0->dash>=2.0.0->dash_bootstrap_components) (8.3.0)\n",
            "Requirement already satisfied: packaging in /usr/local/lib/python3.10/dist-packages (from plotly>=5.0.0->dash>=2.0.0->dash_bootstrap_components) (24.0)\n",
            "Requirement already satisfied: MarkupSafe>=2.1.1 in /usr/local/lib/python3.10/dist-packages (from Werkzeug<3.1->dash>=2.0.0->dash_bootstrap_components) (2.1.5)\n",
            "Requirement already satisfied: zipp>=0.5 in /usr/local/lib/python3.10/dist-packages (from importlib-metadata->dash>=2.0.0->dash_bootstrap_components) (3.18.1)\n",
            "Requirement already satisfied: charset-normalizer<4,>=2 in /usr/local/lib/python3.10/dist-packages (from requests->dash>=2.0.0->dash_bootstrap_components) (3.3.2)\n",
            "Requirement already satisfied: idna<4,>=2.5 in /usr/local/lib/python3.10/dist-packages (from requests->dash>=2.0.0->dash_bootstrap_components) (3.7)\n",
            "Requirement already satisfied: urllib3<3,>=1.21.1 in /usr/local/lib/python3.10/dist-packages (from requests->dash>=2.0.0->dash_bootstrap_components) (2.0.7)\n",
            "Requirement already satisfied: certifi>=2017.4.17 in /usr/local/lib/python3.10/dist-packages (from requests->dash>=2.0.0->dash_bootstrap_components) (2024.2.2)\n",
            "Requirement already satisfied: six>=1.7.0 in /usr/local/lib/python3.10/dist-packages (from retrying->dash>=2.0.0->dash_bootstrap_components) (1.16.0)\n"
          ]
        }
      ],
      "source": [
        "pip install dash_bootstrap_components"
      ]
    },
    {
      "cell_type": "code",
      "execution_count": 277,
      "metadata": {
        "colab": {
          "base_uri": "https://localhost:8080/"
        },
        "collapsed": true,
        "id": "lNqsOHxuGpkO",
        "outputId": "7ed5ee70-c973-4434-c72a-da2cfcf7b33e"
      },
      "outputs": [
        {
          "output_type": "stream",
          "name": "stdout",
          "text": [
            "Requirement already satisfied: pyngrok in /usr/local/lib/python3.10/dist-packages (7.1.6)\n",
            "Requirement already satisfied: PyYAML>=5.1 in /usr/local/lib/python3.10/dist-packages (from pyngrok) (6.0.1)\n"
          ]
        }
      ],
      "source": [
        "pip install pyngrok"
      ]
    },
    {
      "cell_type": "code",
      "execution_count": 278,
      "metadata": {
        "id": "5GCR4848G4Az"
      },
      "outputs": [],
      "source": [
        "import numpy as np\n",
        "import pandas as pd\n",
        "import matplotlib.pyplot as plt\n",
        "import seaborn as sns\n",
        "sns.set_theme(style='whitegrid')\n",
        "import plotly.graph_objects as go\n",
        "import plotly.express as px\n",
        "from plotly.subplots import make_subplots"
      ]
    },
    {
      "cell_type": "code",
      "execution_count": 279,
      "metadata": {
        "id": "k1U4QHsAGy8E"
      },
      "outputs": [],
      "source": [
        "import dash\n",
        "from dash import dcc, html, Dash, Output, Input\n",
        "import dash_bootstrap_components as dbc\n",
        "from pyngrok import ngrok"
      ]
    },
    {
      "cell_type": "code",
      "execution_count": 280,
      "metadata": {
        "id": "M3-hOzwdLPL6",
        "colab": {
          "base_uri": "https://localhost:8080/"
        },
        "outputId": "0fc623da-5be3-4614-9c53-a6223b29430a"
      },
      "outputs": [
        {
          "output_type": "stream",
          "name": "stdout",
          "text": [
            "45888\n"
          ]
        }
      ],
      "source": [
        "!pgrep ngrok"
      ]
    },
    {
      "cell_type": "code",
      "execution_count": 283,
      "metadata": {
        "id": "fFWoVTZpLX9t"
      },
      "outputs": [],
      "source": [
        "!kill 45888"
      ]
    },
    {
      "cell_type": "code",
      "execution_count": 284,
      "metadata": {
        "colab": {
          "base_uri": "https://localhost:8080/"
        },
        "id": "1J76uBnJHHWs",
        "outputId": "6e6d87c8-929e-4fce-b72b-94a9258ea634"
      },
      "outputs": [
        {
          "output_type": "stream",
          "name": "stdout",
          "text": [
            "url: NgrokTunnel: \"https://811a-34-23-134-49.ngrok-free.app\" -> \"http://localhost:8050\"\n"
          ]
        }
      ],
      "source": [
        "ngrok.set_auth_token('2gIlIcVHuAP0SLHUeijX1RLX5it_59uQsFzeSW93RkPaM2BQs')\n",
        "public_url=ngrok.connect(addr='8050')\n",
        "print('url:', public_url)"
      ]
    },
    {
      "cell_type": "markdown",
      "source": [],
      "metadata": {
        "id": "yQ_1V-AEsCi8"
      }
    },
    {
      "cell_type": "code",
      "execution_count": 285,
      "metadata": {
        "id": "s03uMFQKOZDa"
      },
      "outputs": [],
      "source": [
        "companies = {'google': 'GOOGL.csv', 'tesla': 'TSLA.csv', 'ibm': 'IBM.csv'}\n",
        "dataframes = {company: pd.read_csv(filename) for company, filename in companies.items()}\n",
        "\n",
        "app = dash.Dash(__name__, external_stylesheets=[dbc.themes.BOOTSTRAP])\n",
        "\n",
        "page1_layout=dbc.Container(fluid=True, children=[\n",
        "    dbc.Row([\n",
        "        dbc.Col([\n",
        "            dcc.Dropdown(id='multi_stock_selector1',options=[{'label': company.capitalize(), 'value': company} for company in companies],\n",
        "                              value=['google','tesla'], multi=True),\n",
        "            dcc.Graph(id='multi_stock_selector_graph1', figure={})], width=6),\n",
        "\n",
        "        dbc.Col([\n",
        "            dcc.Dropdown(id='multi_stock_selector2',options=[{'label': company.capitalize(), 'value': company} for company in companies],\n",
        "                              value=['google','tesla'], multi=True),\n",
        "            dcc.Graph(id='multi_stock_selector_graph2', figure={})], width=6)\n",
        "\n",
        "    ]),\n",
        "    dbc.Row([\n",
        "        dbc.Col([\n",
        "            dcc.Dropdown(id='multi_stock_selector3',options=[{'label': company.capitalize(), 'value': company} for company in companies],\n",
        "                              value=['google','tesla'], multi=True),\n",
        "            dcc.Graph(id='multi_stock_selector_graph3', figure={})], width=12)\n",
        "    ])\n",
        "\n",
        "  ])\n",
        "\n",
        "\n",
        "@app.callback(\n",
        "    Output('multi_stock_selector_graph1', 'figure'),\n",
        "    Input('multi_stock_selector1', 'value')\n",
        ")\n",
        "def update_graph1(companies):\n",
        "    fig = go.Figure()\n",
        "\n",
        "    # Iterate over the selected companies\n",
        "    for company in companies:\n",
        "        # Get the dataframe for the current company\n",
        "        selected_df = dataframes[company]\n",
        "\n",
        "        # Add a trace for the close prices of the current company\n",
        "        fig.add_trace(go.Scatter(x=selected_df['Date'], y=selected_df['Close'], mode='lines', name=company.capitalize()))\n",
        "\n",
        "    # Update layout\n",
        "    fig.update_layout(\n",
        "        title='Close Price Comparison',\n",
        "        xaxis_title='Date',\n",
        "        yaxis_title='Close Price',\n",
        "        legend_title='Company'\n",
        "    )\n",
        "\n",
        "    return fig\n",
        "\n",
        "\n",
        "\n",
        "@app.callback(\n",
        "    Output('multi_stock_selector_graph2', 'figure'),\n",
        "    Input('multi_stock_selector2', 'value')\n",
        ")\n",
        "def update_graph2(companies):\n",
        "    fig = go.Figure()\n",
        "\n",
        "    # Iterate over the selected companies\n",
        "    for company in companies:\n",
        "        # Get the dataframe for the current company\n",
        "        selected_df = dataframes[company]\n",
        "\n",
        "        # Add a trace for the close prices of the current company\n",
        "        fig.add_trace(go.Scatter(x=selected_df['Date'], y=selected_df['Volume'], mode='lines', name=company.capitalize()))\n",
        "\n",
        "    # Update layout\n",
        "    fig.update_layout(\n",
        "        title='Stock Volume Comparison',\n",
        "        xaxis_title='Date',\n",
        "        yaxis_title='Volume',\n",
        "        legend_title='Company'\n",
        "    )\n",
        "\n",
        "    return fig\n",
        "\n",
        "\n",
        "\n",
        "@app.callback(\n",
        "    Output('multi_stock_selector_graph3', 'figure'),\n",
        "    Input('multi_stock_selector3', 'value')\n",
        ")\n",
        "def update_graph4(companies):\n",
        "    fig = go.Figure()\n",
        "\n",
        "    # Iterate over the selected companies\n",
        "    for company in companies:\n",
        "        # Get the dataframe for the current company\n",
        "        selected_df = dataframes[company]\n",
        "\n",
        "        # Add a trace for the close prices of the current company\n",
        "        fig.add_trace(go.Scatter(x=selected_df['Date'], y=selected_df['Close']*selected_df['Volume'], mode='lines', name=company.capitalize()))\n",
        "\n",
        "    # Update layout\n",
        "    fig.update_layout(\n",
        "        title='Stock Total Traded',\n",
        "        xaxis_title='Date',\n",
        "        yaxis_title='Total Traded',\n",
        "        legend_title='Company'\n",
        "    )\n",
        "\n",
        "    return fig\n"
      ]
    },
    {
      "cell_type": "code",
      "execution_count": 286,
      "metadata": {
        "id": "O00A_w3JOajC"
      },
      "outputs": [],
      "source": [
        "# Page 2 layout\n",
        "page2_layout=dbc.Container(fluid=True, children=[\n",
        "\n",
        "    dbc.Row([\n",
        "        dbc.Col([\n",
        "            dcc.Dropdown(id='stock_selector',options=[{'label': company.capitalize(), 'value': company} for company in companies],\n",
        "                              value='google', multi=False),\n",
        "            dcc.Graph(id='stock_selector_graph', figure={})], width=12)\n",
        "    ]),\n",
        "  dbc.Row([\n",
        "        dbc.Col([\n",
        "            dcc.Dropdown(\n",
        "                id='stock_selection',\n",
        "                options=[{'label': company.capitalize(), 'value': company} for company in dataframes.keys()],\n",
        "                value=list(dataframes.keys())[0:2],  multi=True),\n",
        "            dcc.Graph(id='correlation_graph', figure={})\n",
        "        ], width=12)\n",
        "    ])\n",
        "])\n",
        "\n",
        "\n",
        "\n",
        "\n",
        "@app.callback(\n",
        "    Output('stock_selector_graph', 'figure'),\n",
        "    Input('stock_selector', 'value')\n",
        ")\n",
        "def update_graph3(company):\n",
        "  selected_df = dataframes[company]\n",
        "  fig=go.Figure(data=[go.Candlestick(x=selected_df[\"Date\"],\n",
        "                                   open=selected_df[\"Open\"],\n",
        "                                   close=selected_df[\"Close\"],\n",
        "                                   high=selected_df[\"High\"],\n",
        "                                   low=selected_df[\"Low\"])])\n",
        "  fig.update_layout(xaxis_rangeslider_visible=False)\n",
        "  return fig\n",
        "\n",
        "@app.callback(\n",
        "    Output('correlation_graph', 'figure'),\n",
        "    Input('stock_selection', 'value')\n",
        ")\n",
        "def update_correlation(selected_stocks):\n",
        "    if len(selected_stocks) == 1:\n",
        "        stock = selected_stocks[0]\n",
        "        if stock in dataframes:\n",
        "            # If only one stock is selected, display a line plot of its close prices\n",
        "            fig = go.Figure(data=go.Scatter(x=dataframes[stock].index,\n",
        "                                            y=dataframes[stock]['Close'],\n",
        "                                            mode='lines',\n",
        "                                            marker=dict(color='blue'),\n",
        "                                            ))\n",
        "            fig.update_layout(title=f'Correlation: 1.00 (Single Stock: {stock})')\n",
        "            return fig\n",
        "\n",
        "    elif len(selected_stocks) == 2:\n",
        "        # Filter data to include only selected stocks\n",
        "        filtered_data = {stock: dataframes[stock]['Close'] for stock in selected_stocks if stock in dataframes}\n",
        "\n",
        "        # Combine the close prices of the selected stocks into a DataFrame\n",
        "        combined_close_prices = pd.concat(filtered_data, axis=1)\n",
        "\n",
        "        # Calculate the correlation between the selected stocks' close prices\n",
        "        correlation = combined_close_prices.corr().iloc[0, 1]\n",
        "\n",
        "        # Create a scatter plot to visualize the correlation\n",
        "        fig = go.Figure(data=go.Scatter(x=combined_close_prices[selected_stocks[0]],\n",
        "                                        y=combined_close_prices[selected_stocks[1]],\n",
        "                                        mode='markers',\n",
        "                                        marker=dict(color='blue'),\n",
        "                                        ))\n",
        "\n",
        "        # Add correlation information to the plot title\n",
        "        fig.update_layout(title=f'Correlation between {selected_stocks[0]} and {selected_stocks[1]}: {correlation:.2f}')\n",
        "\n",
        "        return fig\n"
      ]
    },
    {
      "cell_type": "code",
      "source": [
        "import plotly.figure_factory as ff"
      ],
      "metadata": {
        "id": "sHPjqa7enPQ-"
      },
      "execution_count": 287,
      "outputs": []
    },
    {
      "cell_type": "code",
      "source": [
        "# Third page layout\n",
        "page3_layout = dbc.Container(fluid=True, children=[\n",
        "    dbc.Row([\n",
        "        dbc.Col([\n",
        "            dcc.Dropdown(\n",
        "                id='stock_selector_returns',\n",
        "                options=[{'label': company.capitalize(), 'value': company} for company in companies],\n",
        "                value=['google', 'ibm'],\n",
        "                multi=True\n",
        "            ),\n",
        "            dcc.Graph(id='returns_graph', figure={})\n",
        "        ], width=6),\n",
        "        dbc.Col([\n",
        "            dcc.Dropdown(\n",
        "                id='stock_selector_volatility',\n",
        "                options=[{'label': company.capitalize(), 'value': company} for company in companies],\n",
        "                value=['google', 'ibm'],\n",
        "                multi=True\n",
        "            ),\n",
        "            dcc.Graph(id='volatility_graph', figure={})\n",
        "        ], width=6)\n",
        "    ]),\n",
        "    dbc.Row([\n",
        "        dbc.Col([\n",
        "            dcc.Dropdown(\n",
        "                id='stock_selector_density',\n",
        "                options=[{'label': company.capitalize(), 'value': company} for company in companies],\n",
        "                value=['google', 'ibm'],\n",
        "                multi=True\n",
        "            ),\n",
        "            dcc.Graph(id='density_graph', figure={})\n",
        "        ], width=12)\n",
        "    ])\n",
        "])\n",
        "# Callback to update returns plot, volatility histogram, and density estimation\n",
        "@app.callback(\n",
        "    [Output('returns_graph', 'figure'),\n",
        "     Output('volatility_graph', 'figure'),\n",
        "     Output('density_graph', 'figure')],\n",
        "    [Input('stock_selector_returns', 'value'),\n",
        "     Input('stock_selector_volatility', 'value'),\n",
        "     Input('stock_selector_density', 'value')]\n",
        ")\n",
        "def update_returns_analysis(selected_stocks_returns, selected_stocks_volatility, selected_stocks_density):\n",
        "    return (\n",
        "        create_returns_plot(selected_stocks_returns),\n",
        "        create_volatility_plot(selected_stocks_volatility),\n",
        "        create_density_plot(selected_stocks_density)\n",
        "    )\n",
        "\n",
        "def create_returns_plot(companies):\n",
        "    fig = go.Figure()\n",
        "    for company in companies:\n",
        "        df = dataframes[company]\n",
        "        df['Return'] = df['Close'].pct_change() * 100  # Calculate daily percentage change\n",
        "        fig.add_trace(go.Scatter(x=df['Date'], y=df['Return'], mode='lines', name=company.capitalize() + ' Return'))\n",
        "    fig.update_layout(title='Daily Percentage Change (Returns)')\n",
        "    return fig\n",
        "\n",
        "def create_volatility_plot(companies):\n",
        "    fig = go.Figure()\n",
        "    for company in companies:\n",
        "        df = dataframes[company]\n",
        "        df['Return'] = df['Close'].pct_change() * 100\n",
        "        fig.add_trace(go.Histogram(x=df['Return'], name=company.capitalize() + ' Volatility'))\n",
        "    fig.update_layout(title='Volatility (Histogram of Returns)')\n",
        "    return fig\n",
        "\n",
        "def create_density_plot(companies):\n",
        "    fig = go.Figure()\n",
        "\n",
        "    # Define a color scale for KDE plots\n",
        "    colors = ['blue', 'green', 'red', 'purple', 'orange', 'yellow']  # Add more colors if needed\n",
        "\n",
        "    for i, company in enumerate(companies):\n",
        "        df = dataframes[company]\n",
        "        df['Return'] = df['Close'].pct_change() * 100  # Calculate daily percentage change\n",
        "        df['Return'] = df['Return'].replace([np.inf, -np.inf], np.nan)  # Replace inf with NaN\n",
        "        df['Return'].dropna(inplace=True)  # Remove NaN values\n",
        "        df['Return'] = df['Return'].replace([np.nan], 0)  # Replace remaining NaN values with 0\n",
        "\n",
        "        hist_fig = ff.create_distplot(\n",
        "            [df['Return']],\n",
        "            histnorm='probability',\n",
        "            group_labels=[company.capitalize()],\n",
        "            show_rug=False,\n",
        "            show_hist=False,\n",
        "            colors=[colors[i]]  # Set color for this KDE plot\n",
        "        )\n",
        "\n",
        "        for trace in hist_fig['data']:\n",
        "            fig.add_trace(trace)\n",
        "\n",
        "    fig.update_layout(title='Volatility (KDE of Returns)')\n",
        "    return fig"
      ],
      "metadata": {
        "id": "-Gq37fQGlhjT"
      },
      "execution_count": 288,
      "outputs": []
    },
    {
      "cell_type": "code",
      "source": [
        "page4_layout = dbc.Container(fluid=True, children=[\n",
        "    dbc.Row([\n",
        "        dbc.Col([\n",
        "            dcc.Dropdown(\n",
        "                id='company_selector_5',\n",
        "                options=[{'label': company.capitalize(), 'value': company} for company in companies],\n",
        "                value='google',\n",
        "                multi=False\n",
        "            ),\n",
        "            dcc.Graph(id='scatter_plot', figure={})\n",
        "        ], width=12),\n",
        "    ]),\n",
        "    dbc.Row([\n",
        "        dbc.Col([\n",
        "            html.Div([\n",
        "                html.H5(\"Explanation:\"),\n",
        "                html.P(\"This scatter plot visualizes the relationship between trading volume and closing price of the selected stock. The size of each point represents the absolute value of daily returns, while the color indicates the direction and magnitude of price changes (negative values in red, positive values in green).\"),\n",
        "            ])\n",
        "        ], width=12)\n",
        "    ])\n",
        "])\n",
        "\n",
        "# Callback to update scatter plot\n",
        "@app.callback(\n",
        "    Output('scatter_plot', 'figure'),\n",
        "    [Input('company_selector_5', 'value')]\n",
        ")\n",
        "def update_scatter_plot(selected_company):\n",
        "    df = dataframes[selected_company]\n",
        "    df['Returns'] = df['Close'].diff()\n",
        "    df[\"Abs_Returns\"] = df['Returns'].abs()\n",
        "    df = df.dropna()\n",
        "\n",
        "    fig = px.scatter(df,\n",
        "                     x=\"Volume\",\n",
        "                     y=\"Close\",\n",
        "                     size=\"Abs_Returns\",\n",
        "                     color=\"Returns\",\n",
        "                     color_continuous_scale=['red', 'lightgray', 'green'],\n",
        "                     hover_data=[\"Date\", \"Returns\", \"Abs_Returns\"],\n",
        "                     title=f'Scatter Plot of {selected_company.capitalize()} Volume, Close, Returns and Price Change')\n",
        "    fig.update_layout(xaxis_title=\"Volume\", yaxis_title=\"Close\")\n",
        "\n",
        "    return fig"
      ],
      "metadata": {
        "id": "GAjtg9sUg1zr"
      },
      "execution_count": 289,
      "outputs": []
    },
    {
      "cell_type": "code",
      "execution_count": 290,
      "metadata": {
        "id": "wq40NAUgOmA_"
      },
      "outputs": [],
      "source": [
        "app.layout = dbc.Container(fluid=True, children=[\n",
        "    dbc.Row([\n",
        "        dbc.Col([html.H1('Multipage dashboard. Stock Market Analysis: Tesla, Google and IBM', className=\"text-center\")], width=12)\n",
        "    ]),\n",
        "    dbc.Row(\n",
        "        [\n",
        "            dbc.Col(\n",
        "                [\n",
        "                    dbc.Nav(\n",
        "                        [dbc.NavLink(page['name'], href=page['path'], active='exact') for page in [\n",
        "                            {'name': 'page1', 'path': '/'},\n",
        "                            {'name': 'page2', 'path': '/cc'},\n",
        "                            {'name': 'page3', 'path': '/returns'},\n",
        "                            {'name': 'page4', 'path': '/scatter'}\n",
        "                        ]],\n",
        "                        vertical=True,\n",
        "                        pills=True\n",
        "                    )\n",
        "                ],\n",
        "                width=2\n",
        "            ),\n",
        "            dbc.Col([dcc.Location(id='url', refresh=True), html.Div(id='page-content')], width=10)\n",
        "        ]\n",
        "    )\n",
        "])\n",
        "\n",
        "# Define callback to switch between pages\n",
        "\n",
        "@app.callback(Output('page-content', 'children'),\n",
        "              Input('url', 'pathname'))\n",
        "def display_page(pathname):\n",
        "    if pathname == '/':\n",
        "        return page1_layout\n",
        "    elif pathname == '/cc':\n",
        "        return page2_layout\n",
        "    elif pathname == '/returns':\n",
        "        return page3_layout\n",
        "    elif pathname == '/scatter':\n",
        "        return page4_layout\n",
        "    else:\n",
        "        return '404 Page Not Found'\n",
        "\n"
      ]
    },
    {
      "cell_type": "markdown",
      "metadata": {
        "id": "b1plA_ewOwwW"
      },
      "source": [
        "\n",
        "\n",
        "\n",
        "---\n",
        "\n",
        "\n",
        "---\n",
        "\n",
        "\n",
        "\n",
        "---\n",
        "\n"
      ]
    },
    {
      "cell_type": "code",
      "source": [
        "!pip freeze > requirements.txt"
      ],
      "metadata": {
        "id": "GSh8xR3Zx_C0"
      },
      "execution_count": 292,
      "outputs": []
    },
    {
      "cell_type": "code",
      "source": [
        "%%writefile Procfile\n",
        "web:gunicorn app:server\n",
        "\n",
        "# Run the app\n",
        "\n",
        "if __name__ == '__main__':\n",
        "    app.run_server(port=8050, debug=True)"
      ],
      "metadata": {
        "colab": {
          "base_uri": "https://localhost:8080/"
        },
        "id": "QOYkE5LNybI9",
        "outputId": "d72ab799-188f-4e12-9e79-1d0052ff6f8b"
      },
      "execution_count": 293,
      "outputs": [
        {
          "output_type": "stream",
          "name": "stdout",
          "text": [
            "Writing Procfile\n"
          ]
        }
      ]
    }
  ]
}